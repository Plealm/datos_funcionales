{
 "cells": [
  {
   "cell_type": "markdown",
   "metadata": {},
   "source": [
    "# 2 Galeano, Joseph & Lillo (2015)"
   ]
  },
  {
   "cell_type": "markdown",
   "metadata": {},
   "source": [
    "# 3"
   ]
  },
  {
   "cell_type": "markdown",
   "metadata": {},
   "source": [
    "### 3.b.2 \n",
    "\n",
    "\n",
    "_Berrendero, J. R., Justel, A., & Svarc, M. (2011)_\n",
    "\n",
    "Sean los p procesos, cada uno en el **mismo intervalo T**:\n",
    "\n",
    "$$\\chi_1, \\dots, \\chi_p$$\n",
    "\n",
    "Note que al tomar el punto $t\\in T$, se tiene un vector:\n",
    "\n",
    "$$\\chi_1(t) = [X_{11}(t), \\dots, X_{1n}(t)]^T$$ \n",
    "\n",
    "Por ellos se define la matriz \n",
    "\n",
    "$$\\begin{bmatrix}\\chi_1(t) | \\chi_2(t) | \\dots | \\chi_p(t)\\end{bmatrix}$$ \n",
    "\n",
    "Y se toman la matriz de covarianza de la matriz anterior, la cual se denota como:\n",
    "\n",
    "$$\\Sigma(t) = \\begin{bmatrix} \\Sigma_{11}(t) & \\Sigma_{12}(t) & \\dots & \\Sigma_{1p}(t) \\\\ \\Sigma_{21}(t) & \\Sigma_{22}(t) & \\dots & \\Sigma_{2p}(t) \\\\ \\vdots & \\vdots & \\ddots & \\vdots \\\\ \\Sigma_{p1}(t) & \\Sigma_{p2}(t) & \\dots & \\Sigma_{pp}(t) \\end{bmatrix}$$\n",
    "\n",
    "Pero tomando todos los puntos, se tiene la sucesión de matrices de covarianza:\n",
    "\n",
    "$$\\Sigma_1, \\Sigma_2, \\dots, \\Sigma_T$$\n",
    "\n",
    "Tomando los valores propios y vectores propios de cada matriz de covarianza, se tiene que para cada $t\\in T$:\n",
    "\n",
    "$$\\Sigma_t = \\lambda(t) V_t $$\n",
    "\n",
    "Donde $\\lambda(t)$ es una **función** y loz vectores $V_t$ son dependientes de $t$. La idea es unir los vectores en un vector de funciones.\n",
    "\n",
    "\n",
    "Cual multiplo de los vectores propios es vector propio, es decir, si $V_t$ es vector propio, entonces $cV_t$ también lo es, mostrando que al ser multiplicado **por un c negativo cambia de dirección**, haciendo que no sea unico.\n",
    "\n",
    "Medida de varianza explicada para toda la parte del proceso para que no hayas problemas.\n"
   ]
  },
  {
   "cell_type": "markdown",
   "metadata": {},
   "source": [
    "# 4 Imagenes"
   ]
  },
  {
   "cell_type": "markdown",
   "metadata": {},
   "source": [
    "Se puede realizar la descomposición \n",
    "\n",
    "$$\\chi(i, j) = \\sum_{k = 1}^{\\infty} c_k u_k(j, l)$$\n",
    "\n",
    "Tal que la función base se puede definir como:\n",
    "$$u_k(j, l) =u_k(j) u_k(l)$$"
   ]
  },
  {
   "cell_type": "code",
   "execution_count": 2,
   "metadata": {},
   "outputs": [],
   "source": [
    "import rpy2"
   ]
  },
  {
   "cell_type": "code",
   "execution_count": 4,
   "metadata": {},
   "outputs": [],
   "source": [
    "%load_ext rpy2.ipython"
   ]
  },
  {
   "cell_type": "code",
   "execution_count": 5,
   "metadata": {},
   "outputs": [
    {
     "name": "stderr",
     "output_type": "stream",
     "text": [
      "* installing *source* package ‘dotCall64’ ...\n",
      "** package ‘dotCall64’ successfully unpacked and MD5 sums checked\n",
      "** using staged installation\n",
      "** libs\n",
      "using C compiler: ‘gcc (Ubuntu 11.4.0-1ubuntu1~22.04) 11.4.0’\n",
      "using Fortran compiler: ‘GNU Fortran (Ubuntu 11.4.0-1ubuntu1~22.04) 11.4.0’\n"
     ]
    },
    {
     "name": "stdout",
     "output_type": "stream",
     "text": [
      "gcc -I\"/usr/share/R/include\" -DNDEBUG      -fopenmp -I../inst/include/ -DDOTCAL64_PRIVATE -fpic  -g -O2 -ffile-prefix-map=/build/r-base-6tgf7J/r-base-4.4.2=. -fstack-protector-strong -Wformat -Werror=format-security -Wdate-time -D_FORTIFY_SOURCE=2  -c dotCall64.c -o dotCall64.o\n",
      "gcc -I\"/usr/share/R/include\" -DNDEBUG      -fopenmp -I../inst/include/ -DDOTCAL64_PRIVATE -fpic  -g -O2 -ffile-prefix-map=/build/r-base-6tgf7J/r-base-4.4.2=. -fstack-protector-strong -Wformat -Werror=format-security -Wdate-time -D_FORTIFY_SOURCE=2  -c dotCall64helpers.c -o dotCall64helpers.o\n",
      "gcc -I\"/usr/share/R/include\" -DNDEBUG      -fopenmp -I../inst/include/ -DDOTCAL64_PRIVATE -fpic  -g -O2 -ffile-prefix-map=/build/r-base-6tgf7J/r-base-4.4.2=. -fstack-protector-strong -Wformat -Werror=format-security -Wdate-time -D_FORTIFY_SOURCE=2  -c init.c -o init.o\n",
      "gcc -I\"/usr/share/R/include\" -DNDEBUG      -fopenmp -I../inst/include/ -DDOTCAL64_PRIVATE -fpic  -g -O2 -ffile-prefix-map=/build/r-base-6tgf7J/r-base-4.4.2=. -fstack-protector-strong -Wformat -Werror=format-security -Wdate-time -D_FORTIFY_SOURCE=2  -c testfunctions_c.c -o testfunctions_c.o\n",
      "gfortran  -fpic  -g -O2 -ffile-prefix-map=/build/r-base-6tgf7J/r-base-4.4.2=. -fstack-protector-strong  -c testfunctions_f.f -o testfunctions_f.o\n",
      "gcc -shared -L/usr/lib/R/lib -Wl,-Bsymbolic-functions -flto=auto -ffat-lto-objects -flto=auto -Wl,-z,relro -o dotCall64.so dotCall64.o dotCall64helpers.o init.o testfunctions_c.o testfunctions_f.o -fopenmp -lgfortran -lm -lquadmath -L/usr/lib/R/lib -lR\n"
     ]
    },
    {
     "name": "stderr",
     "output_type": "stream",
     "text": [
      "installing to /usr/local/lib/R/site-library/00LOCK-dotCall64/00new/dotCall64/libs\n",
      "** R\n",
      "** inst\n",
      "** byte-compile and prepare package for lazy loading\n",
      "** help\n",
      "*** installing help indices\n",
      "** building package indices\n",
      "** testing if installed package can be loaded from temporary location\n",
      "** checking absolute paths in shared objects and dynamic libraries\n",
      "** testing if installed package can be loaded from final location\n",
      "** testing if installed package keeps a record of temporary installation path\n",
      "* DONE (dotCall64)\n",
      "* installing *source* package ‘maps’ ...\n",
      "** package ‘maps’ successfully unpacked and MD5 sums checked\n",
      "** using staged installation\n"
     ]
    },
    {
     "name": "stdout",
     "output_type": "stream",
     "text": [
      "checking for gawk... no\n",
      "checking for mawk... mawk\n",
      "configure: creating ./config.status\n",
      "config.status: creating src/Makefile\n"
     ]
    },
    {
     "name": "stderr",
     "output_type": "stream",
     "text": [
      "** libs\n"
     ]
    },
    {
     "name": "stdout",
     "output_type": "stream",
     "text": [
      "make -f \"/usr/lib/R/etc/Makeconf\" -f Makefile init.o mapclip.o mapget.o smooth.o thin.o \n",
      "make[1]: se entra en el directorio '/tmp/RtmpmQMhei/R.INSTALL428025a68dd/maps/src'\n",
      "gcc -I\"/usr/share/R/include\" -DNDEBUG       -fpic  -g -O2 -ffile-prefix-map=/build/r-base-6tgf7J/r-base-4.4.2=. -fstack-protector-strong -Wformat -Werror=format-security -Wdate-time -D_FORTIFY_SOURCE=2  -c init.c -o init.o\n",
      "gcc -I\"/usr/share/R/include\" -DNDEBUG       -fpic  -g -O2 -ffile-prefix-map=/build/r-base-6tgf7J/r-base-4.4.2=. -fstack-protector-strong -Wformat -Werror=format-security -Wdate-time -D_FORTIFY_SOURCE=2  -c mapclip.c -o mapclip.o\n",
      "gcc -I\"/usr/share/R/include\" -DNDEBUG       -fpic  -g -O2 -ffile-prefix-map=/build/r-base-6tgf7J/r-base-4.4.2=. -fstack-protector-strong -Wformat -Werror=format-security -Wdate-time -D_FORTIFY_SOURCE=2  -c mapget.c -o mapget.o\n",
      "gcc -I\"/usr/share/R/include\" -DNDEBUG       -fpic  -g -O2 -ffile-prefix-map=/build/r-base-6tgf7J/r-base-4.4.2=. -fstack-protector-strong -Wformat -Werror=format-security -Wdate-time -D_FORTIFY_SOURCE=2  -c smooth.c -o smooth.o\n",
      "gcc -I\"/usr/share/R/include\" -DNDEBUG       -fpic  -g -O2 -ffile-prefix-map=/build/r-base-6tgf7J/r-base-4.4.2=. -fstack-protector-strong -Wformat -Werror=format-security -Wdate-time -D_FORTIFY_SOURCE=2  -c thin.c -o thin.o\n",
      "make[1]: se sale del directorio '/tmp/RtmpmQMhei/R.INSTALL428025a68dd/maps/src'\n",
      "\"/usr/lib/R/bin/R\" CMD SHLIB -o maps.so init.o mapclip.o mapget.o smooth.o thin.o \n",
      "make[1]: se entra en el directorio '/tmp/RtmpmQMhei/R.INSTALL428025a68dd/maps/src'\n",
      "gcc -shared -L/usr/lib/R/lib -Wl,-Bsymbolic-functions -flto=auto -ffat-lto-objects -flto=auto -Wl,-z,relro -o maps.so init.o mapclip.o mapget.o smooth.o thin.o -L/usr/lib/R/lib -lR\n",
      "make[1]: se sale del directorio '/tmp/RtmpmQMhei/R.INSTALL428025a68dd/maps/src'\n",
      "make -f \"/usr/lib/R/etc/Makeconf\" -f Makefile Gmake\n",
      "make[1]: se entra en el directorio '/tmp/RtmpmQMhei/R.INSTALL428025a68dd/maps/src'\n",
      "gcc -g -O2 -ffile-prefix-map=/build/r-base-6tgf7J/r-base-4.4.2=. -fstack-protector-strong -Wformat -Werror=format-security -Wdate-time -D_FORTIFY_SOURCE=2   -Wl,-Bsymbolic-functions -flto=auto -ffat-lto-objects -flto=auto -Wl,-z,relro  Gmake.c   -o Gmake\n",
      "make[1]: se sale del directorio '/tmp/RtmpmQMhei/R.INSTALL428025a68dd/maps/src'\n",
      "make -f \"/usr/lib/R/etc/Makeconf\" -f Makefile Lmake\n",
      "make[1]: se entra en el directorio '/tmp/RtmpmQMhei/R.INSTALL428025a68dd/maps/src'\n",
      "gcc -g -O2 -ffile-prefix-map=/build/r-base-6tgf7J/r-base-4.4.2=. -fstack-protector-strong -Wformat -Werror=format-security -Wdate-time -D_FORTIFY_SOURCE=2   -Wl,-Bsymbolic-functions -flto=auto -ffat-lto-objects -flto=auto -Wl,-z,relro  Lmake.c   -o Lmake\n",
      "make[1]: se sale del directorio '/tmp/RtmpmQMhei/R.INSTALL428025a68dd/maps/src'\n",
      "make -f \"/usr/lib/R/etc/Makeconf\" -f Makefile world2.line\n",
      "make[1]: se entra en el directorio '/tmp/RtmpmQMhei/R.INSTALL428025a68dd/maps/src'\n",
      "Converting world to world2\n",
      "mawk -f ./convert.awk < world.line > world2.line\n",
      "make[1]: se sale del directorio '/tmp/RtmpmQMhei/R.INSTALL428025a68dd/maps/src'\n",
      "make -f \"/usr/lib/R/etc/Makeconf\" -f Makefile county.L state.L usa.L nz.L world.L world2.L italy.L france.L state.vbm.L state.carto.L lakes.L\n",
      "make[1]: se entra en el directorio '/tmp/RtmpmQMhei/R.INSTALL428025a68dd/maps/src'\n",
      "./Lmake 0 s b county.line county.linestats ../inst/mapdata/county.L\n",
      "./Lmake 0 s b state.line state.linestats ../inst/mapdata/state.L\n",
      "./Lmake 0 s b usa.line usa.linestats ../inst/mapdata/usa.L\n",
      "./Lmake 0 s b nz.line nz.linestats ../inst/mapdata/nz.L\n",
      "./Lmake 0 s b world.line world.linestats ../inst/mapdata/world.L\n",
      "./Lmake 0 s b world2.line world2.linestats ../inst/mapdata/world2.L\n",
      "./Lmake 0 s b italy.line italy.linestats ../inst/mapdata/italy.L\n",
      "./Lmake 0 s b france.line france.linestats ../inst/mapdata/france.L\n",
      "./Lmake 0 p b state.vbm.line state.vbm.linestats ../inst/mapdata/state.vbm.L\n",
      "./Lmake 0 p b state.carto.line state.carto.linestats ../inst/mapdata/state.carto.L\n",
      "./Lmake 0 s b lakes.line lakes.linestats ../inst/mapdata/lakes.L\n",
      "make[1]: se sale del directorio '/tmp/RtmpmQMhei/R.INSTALL428025a68dd/maps/src'\n",
      "make -f \"/usr/lib/R/etc/Makeconf\" -f Makefile county.G state.G usa.G nz.G world.G world2.G italy.G france.G state.vbm.G state.carto.G lakes.G\n",
      "make[1]: se entra en el directorio '/tmp/RtmpmQMhei/R.INSTALL428025a68dd/maps/src'\n",
      "./Gmake b county.gon county.gonstats ../inst/mapdata/county.G ../inst/mapdata/county.L\n",
      "./Gmake b state.gon state.gonstats ../inst/mapdata/state.G ../inst/mapdata/state.L\n",
      "./Gmake b usa.gon usa.gonstats ../inst/mapdata/usa.G ../inst/mapdata/usa.L\n",
      "./Gmake b nz.gon nz.gonstats ../inst/mapdata/nz.G ../inst/mapdata/nz.L\n",
      "./Gmake b world.gon world.gonstats ../inst/mapdata/world.G ../inst/mapdata/world.L\n",
      "./Gmake b world2.gon world2.gonstats ../inst/mapdata/world2.G ../inst/mapdata/world2.L\n",
      "./Gmake b italy.gon italy.gonstats ../inst/mapdata/italy.G ../inst/mapdata/italy.L\n",
      "./Gmake b france.gon france.gonstats ../inst/mapdata/france.G ../inst/mapdata/france.L\n",
      "./Gmake b state.vbm.gon state.vbm.gonstats ../inst/mapdata/state.vbm.G ../inst/mapdata/state.vbm.L\n",
      "./Gmake b state.carto.gon state.carto.gonstats ../inst/mapdata/state.carto.G ../inst/mapdata/state.carto.L\n",
      "./Gmake b lakes.gon lakes.gonstats ../inst/mapdata/lakes.G ../inst/mapdata/lakes.L\n",
      "make[1]: se sale del directorio '/tmp/RtmpmQMhei/R.INSTALL428025a68dd/maps/src'\n",
      "make -f \"/usr/lib/R/etc/Makeconf\" -f Makefile county.N state.N usa.N nz.N world.N world2.N italy.N france.N state.vbm.N state.carto.N lakes.N\n",
      "make[1]: se entra en el directorio '/tmp/RtmpmQMhei/R.INSTALL428025a68dd/maps/src'\n",
      "make[1]: se sale del directorio '/tmp/RtmpmQMhei/R.INSTALL428025a68dd/maps/src'\n"
     ]
    },
    {
     "name": "stderr",
     "output_type": "stream",
     "text": [
      "installing to /usr/local/lib/R/site-library/00LOCK-maps/00new/maps/libs\n",
      "** R\n",
      "** data\n",
      "*** moving datasets to lazyload DB\n",
      "** inst\n",
      "** byte-compile and prepare package for lazy loading\n",
      "** help\n",
      "*** installing help indices\n",
      "** building package indices\n",
      "** testing if installed package can be loaded from temporary location\n",
      "** checking absolute paths in shared objects and dynamic libraries\n",
      "** testing if installed package can be loaded from final location\n",
      "** testing if installed package keeps a record of temporary installation path\n",
      "* DONE (maps)\n",
      "* installing *source* package ‘spam’ ...\n",
      "** package ‘spam’ successfully unpacked and MD5 sums checked\n",
      "** using staged installation\n",
      "** libs\n",
      "using C compiler: ‘gcc (Ubuntu 11.4.0-1ubuntu1~22.04) 11.4.0’\n",
      "using Fortran compiler: ‘GNU Fortran (Ubuntu 11.4.0-1ubuntu1~22.04) 11.4.0’\n",
      "using C++ compiler: ‘g++ (Ubuntu 11.4.0-1ubuntu1~22.04) 11.4.0’\n"
     ]
    },
    {
     "name": "stdout",
     "output_type": "stream",
     "text": [
      "g++ -std=gnu++17 -I\"/usr/share/R/include\" -DNDEBUG  -I'/usr/local/lib/R/site-library/Rcpp/include'     -fpic  -g -O2 -ffile-prefix-map=/build/r-base-6tgf7J/r-base-4.4.2=. -fstack-protector-strong -Wformat -Werror=format-security -Wdate-time -D_FORTIFY_SOURCE=2   -c RcppExports.cpp -o RcppExports.o\n",
      "gfortran  -fpic  -g -O2 -ffile-prefix-map=/build/r-base-6tgf7J/r-base-4.4.2=. -fstack-protector-strong  -c bckslvmodified.f -o bckslvmodified.o\n",
      "gfortran  -fpic  -g -O2 -ffile-prefix-map=/build/r-base-6tgf7J/r-base-4.4.2=. -fstack-protector-strong  -c cholmodified.f -o cholmodified.o\n",
      "gfortran  -fpic  -g -O2 -ffile-prefix-map=/build/r-base-6tgf7J/r-base-4.4.2=. -fstack-protector-strong  -c dgetv0.f -o dgetv0.o\n",
      "gfortran  -fpic  -g -O2 -ffile-prefix-map=/build/r-base-6tgf7J/r-base-4.4.2=. -fstack-protector-strong  -c dist.f -o dist.o\n",
      "g++ -std=gnu++17 -I\"/usr/share/R/include\" -DNDEBUG  -I'/usr/local/lib/R/site-library/Rcpp/include'     -fpic  -g -O2 -ffile-prefix-map=/build/r-base-6tgf7J/r-base-4.4.2=. -fstack-protector-strong -Wformat -Werror=format-security -Wdate-time -D_FORTIFY_SOURCE=2   -c distCpp.cpp -o distCpp.o\n",
      "gfortran  -fpic  -g -O2 -ffile-prefix-map=/build/r-base-6tgf7J/r-base-4.4.2=. -fstack-protector-strong  -c dn_ARPACK.f -o dn_ARPACK.o\n",
      "gfortran  -fpic  -g -O2 -ffile-prefix-map=/build/r-base-6tgf7J/r-base-4.4.2=. -fstack-protector-strong  -c dn_eigen.f -o dn_eigen.o\n",
      "gfortran  -fpic  -g -O2 -ffile-prefix-map=/build/r-base-6tgf7J/r-base-4.4.2=. -fstack-protector-strong  -c ds_ARPACK.f -o ds_ARPACK.o\n",
      "gfortran  -fpic  -g -O2 -ffile-prefix-map=/build/r-base-6tgf7J/r-base-4.4.2=. -fstack-protector-strong  -c ds_eigen.f -o ds_eigen.o\n",
      "gfortran  -fpic  -g -O2 -ffile-prefix-map=/build/r-base-6tgf7J/r-base-4.4.2=. -fstack-protector-strong  -c fromsparsekit.f -o fromsparsekit.o\n",
      "gfortran  -fpic  -g -O2 -ffile-prefix-map=/build/r-base-6tgf7J/r-base-4.4.2=. -fstack-protector-strong  -c gmult.f -o gmult.o\n",
      "gcc -I\"/usr/share/R/include\" -DNDEBUG  -I'/usr/local/lib/R/site-library/Rcpp/include'     -fpic  -g -O2 -ffile-prefix-map=/build/r-base-6tgf7J/r-base-4.4.2=. -fstack-protector-strong -Wformat -Werror=format-security -Wdate-time -D_FORTIFY_SOURCE=2  -c init.c -o init.o\n",
      "gfortran  -fpic  -g -O2 -ffile-prefix-map=/build/r-base-6tgf7J/r-base-4.4.2=. -fstack-protector-strong  -c kronecker.f -o kronecker.o\n",
      "gfortran  -fpic  -g -O2 -ffile-prefix-map=/build/r-base-6tgf7J/r-base-4.4.2=. -fstack-protector-strong  -c permutation.f -o permutation.o\n",
      "gfortran  -fpic  -g -O2 -ffile-prefix-map=/build/r-base-6tgf7J/r-base-4.4.2=. -fstack-protector-strong  -c rowcolstats.f -o rowcolstats.o\n",
      "gfortran  -fpic  -g -O2 -ffile-prefix-map=/build/r-base-6tgf7J/r-base-4.4.2=. -fstack-protector-strong  -c spamown.f -o spamown.o\n",
      "gfortran  -fpic  -g -O2 -ffile-prefix-map=/build/r-base-6tgf7J/r-base-4.4.2=. -fstack-protector-strong  -c spamown2.f -o spamown2.o\n",
      "gfortran  -fpic  -g -O2 -ffile-prefix-map=/build/r-base-6tgf7J/r-base-4.4.2=. -fstack-protector-strong  -c xybind.f -o xybind.o\n",
      "g++ -std=gnu++17 -shared -L/usr/lib/R/lib -Wl,-Bsymbolic-functions -flto=auto -ffat-lto-objects -flto=auto -Wl,-z,relro -o spam.so RcppExports.o bckslvmodified.o cholmodified.o dgetv0.o dist.o distCpp.o dn_ARPACK.o dn_eigen.o ds_ARPACK.o ds_eigen.o fromsparsekit.o gmult.o init.o kronecker.o permutation.o rowcolstats.o spamown.o spamown2.o xybind.o -llapack -lblas -lgfortran -lm -lquadmath -lgfortran -lm -lquadmath -L/usr/lib/R/lib -lR\n"
     ]
    },
    {
     "name": "stderr",
     "output_type": "stream",
     "text": [
      "installing to /usr/local/lib/R/site-library/00LOCK-spam/00new/spam/libs\n",
      "** R\n",
      "** data\n",
      "*** moving datasets to lazyload DB\n",
      "** demo\n",
      "** inst\n",
      "** byte-compile and prepare package for lazy loading\n"
     ]
    },
    {
     "name": "stdout",
     "output_type": "stream",
     "text": [
      "Creating a generic function for ‘diag’ from package ‘base’ in package ‘spam’\n",
      "Creating a generic function for ‘diag<-’ from package ‘base’ in package ‘spam’\n",
      "Creating a generic function for ‘norm’ from package ‘base’ in package ‘spam’\n",
      "Creating a generic function for ‘rowSums’ from package ‘base’ in package ‘spam’\n",
      "Creating a generic function for ‘colSums’ from package ‘base’ in package ‘spam’\n",
      "Creating a generic function for ‘rowMeans’ from package ‘base’ in package ‘spam’\n",
      "Creating a generic function for ‘colMeans’ from package ‘base’ in package ‘spam’\n",
      "Creating a new generic function for ‘backsolve’ in package ‘spam’\n",
      "Creating a new generic function for ‘forwardsolve’ in package ‘spam’\n",
      "Creating a generic function for ‘chol2inv’ from ‘base’ in package ‘spam’\n",
      "    (from the saved implicit definition)\n",
      "Creating a generic function for ‘chol2inv’ from package ‘base’ in package ��spam’\n",
      "Creating a generic function for ‘rbind’ from package ‘base’ in package ‘spam’\n",
      "Creating a generic function for ‘cbind’ from package ‘base’ in package ‘spam’\n"
     ]
    },
    {
     "name": "stderr",
     "output_type": "stream",
     "text": [
      "** help\n",
      "*** installing help indices\n",
      "*** copying figures\n",
      "** building package indices\n",
      "** installing vignettes\n",
      "** testing if installed package can be loaded from temporary location\n",
      "** checking absolute paths in shared objects and dynamic libraries\n",
      "** testing if installed package can be loaded from final location\n",
      "** testing if installed package keeps a record of temporary installation path\n",
      "* DONE (spam)\n",
      "* installing *source* package ‘fields’ ...\n",
      "** package ‘fields’ successfully unpacked and MD5 sums checked\n",
      "** using staged installation\n",
      "** libs\n",
      "using C compiler: ‘gcc (Ubuntu 11.4.0-1ubuntu1~22.04) 11.4.0’\n",
      "using Fortran compiler: ‘GNU Fortran (Ubuntu 11.4.0-1ubuntu1~22.04) 11.4.0’\n"
     ]
    },
    {
     "name": "stdout",
     "output_type": "stream",
     "text": [
      "gcc -I\"/usr/share/R/include\" -DNDEBUG       -fpic  -g -O2 -ffile-prefix-map=/build/r-base-6tgf7J/r-base-4.4.2=. -fstack-protector-strong -Wformat -Werror=format-security -Wdate-time -D_FORTIFY_SOURCE=2  -c ExponentialUpperC.c -o ExponentialUpperC.o\n",
      "gcc -I\"/usr/share/R/include\" -DNDEBUG       -fpic  -g -O2 -ffile-prefix-map=/build/r-base-6tgf7J/r-base-4.4.2=. -fstack-protector-strong -Wformat -Werror=format-security -Wdate-time -D_FORTIFY_SOURCE=2  -c RdistEarth.c -o RdistEarth.o\n",
      "gcc -I\"/usr/share/R/include\" -DNDEBUG       -fpic  -g -O2 -ffile-prefix-map=/build/r-base-6tgf7J/r-base-4.4.2=. -fstack-protector-strong -Wformat -Werror=format-security -Wdate-time -D_FORTIFY_SOURCE=2  -c addToDiagC.c -o addToDiagC.o\n",
      "gcc -I\"/usr/share/R/include\" -DNDEBUG       -fpic  -g -O2 -ffile-prefix-map=/build/r-base-6tgf7J/r-base-4.4.2=. -fstack-protector-strong -Wformat -Werror=format-security -Wdate-time -D_FORTIFY_SOURCE=2  -c compactToMatC.c -o compactToMatC.o\n",
      "gcc -I\"/usr/share/R/include\" -DNDEBUG       -fpic  -g -O2 -ffile-prefix-map=/build/r-base-6tgf7J/r-base-4.4.2=. -fstack-protector-strong -Wformat -Werror=format-security -Wdate-time -D_FORTIFY_SOURCE=2  -c expfnC.c -o expfnC.o\n",
      "gfortran  -fpic  -g -O2 -ffile-prefix-map=/build/r-base-6tgf7J/r-base-4.4.2=. -fstack-protector-strong  -c fieldsF77Code.f -o fieldsF77Code.o\n",
      "gcc -I\"/usr/share/R/include\" -DNDEBUG       -fpic  -g -O2 -ffile-prefix-map=/build/r-base-6tgf7J/r-base-4.4.2=. -fstack-protector-strong -Wformat -Werror=format-security -Wdate-time -D_FORTIFY_SOURCE=2  -c init.c -o init.o\n",
      "gcc -I\"/usr/share/R/include\" -DNDEBUG       -fpic  -g -O2 -ffile-prefix-map=/build/r-base-6tgf7J/r-base-4.4.2=. -fstack-protector-strong -Wformat -Werror=format-security -Wdate-time -D_FORTIFY_SOURCE=2  -c multebC.c -o multebC.o\n",
      "gcc -I\"/usr/share/R/include\" -DNDEBUG       -fpic  -g -O2 -ffile-prefix-map=/build/r-base-6tgf7J/r-base-4.4.2=. -fstack-protector-strong -Wformat -Werror=format-security -Wdate-time -D_FORTIFY_SOURCE=2  -c rdistC.c -o rdistC.o\n",
      "gcc -shared -L/usr/lib/R/lib -Wl,-Bsymbolic-functions -flto=auto -ffat-lto-objects -flto=auto -Wl,-z,relro -o fields.so ExponentialUpperC.o RdistEarth.o addToDiagC.o compactToMatC.o expfnC.o fieldsF77Code.o init.o multebC.o rdistC.o -lgfortran -lm -lquadmath -L/usr/lib/R/lib -lR\n"
     ]
    },
    {
     "name": "stderr",
     "output_type": "stream",
     "text": [
      "installing to /usr/local/lib/R/site-library/00LOCK-fields/00new/fields/libs\n",
      "** R\n",
      "** data\n",
      "** inst\n",
      "** byte-compile and prepare package for lazy loading\n",
      "** help\n",
      "*** installing help indices\n",
      "** building package indices\n",
      "** testing if installed package can be loaded from temporary location\n",
      "** checking absolute paths in shared objects and dynamic libraries\n",
      "** testing if installed package can be loaded from final location\n",
      "** testing if installed package keeps a record of temporary installation path\n",
      "* DONE (fields)\n",
      "* installing *source* package ‘funData’ ...\n",
      "** package ‘funData’ successfully unpacked and MD5 sums checked\n",
      "** using staged installation\n",
      "** R\n",
      "** inst\n",
      "** byte-compile and prepare package for lazy loading\n"
     ]
    },
    {
     "name": "stdout",
     "output_type": "stream",
     "text": [
      "Creating a new generic function for ‘integrate’ in package ‘funData’\n",
      "Creating a generic function for ‘norm’ from package ‘base’ in package ‘funData’\n"
     ]
    },
    {
     "name": "stderr",
     "output_type": "stream",
     "text": [
      "** help\n",
      "*** installing help indices\n",
      "** building package indices\n",
      "** testing if installed package can be loaded from temporary location\n",
      "** testing if installed package can be loaded from final location\n",
      "** testing if installed package keeps a record of temporary installation path\n",
      "* DONE (funData)\n",
      "* installing *source* package ‘irlba’ ...\n",
      "** package ‘irlba’ successfully unpacked and MD5 sums checked\n",
      "** using staged installation\n",
      "** libs\n",
      "using C compiler: ‘gcc (Ubuntu 11.4.0-1ubuntu1~22.04) 11.4.0’\n"
     ]
    },
    {
     "name": "stdout",
     "output_type": "stream",
     "text": [
      "gcc -I\"/usr/share/R/include\" -DNDEBUG  -I'/usr/lib/R/library/Matrix/include'     -fpic  -g -O2 -ffile-prefix-map=/build/r-base-6tgf7J/r-base-4.4.2=. -fstack-protector-strong -Wformat -Werror=format-security -Wdate-time -D_FORTIFY_SOURCE=2  -c irlb.c -o irlb.o\n",
      "gcc -I\"/usr/share/R/include\" -DNDEBUG  -I'/usr/lib/R/library/Matrix/include'     -fpic  -g -O2 -ffile-prefix-map=/build/r-base-6tgf7J/r-base-4.4.2=. -fstack-protector-strong -Wformat -Werror=format-security -Wdate-time -D_FORTIFY_SOURCE=2  -c utility.c -o utility.o\n",
      "gcc -shared -L/usr/lib/R/lib -Wl,-Bsymbolic-functions -flto=auto -ffat-lto-objects -flto=auto -Wl,-z,relro -o irlba.so irlb.o utility.o -llapack -lblas -lgfortran -lm -lquadmath -L/usr/lib/R/lib -lR\n"
     ]
    },
    {
     "name": "stderr",
     "output_type": "stream",
     "text": [
      "installing to /usr/local/lib/R/site-library/00LOCK-irlba/00new/irlba/libs\n",
      "** R\n",
      "** inst\n",
      "** byte-compile and prepare package for lazy loading\n",
      "** help\n",
      "*** installing help indices\n",
      "** building package indices\n",
      "** installing vignettes\n",
      "** testing if installed package can be loaded from temporary location\n",
      "** checking absolute paths in shared objects and dynamic libraries\n",
      "** testing if installed package can be loaded from final location\n",
      "** testing if installed package keeps a record of temporary installation path\n",
      "* DONE (irlba)\n",
      "* installing *source* package ‘MFPCA’ ...\n",
      "** package ‘MFPCA’ successfully unpacked and MD5 sums checked\n",
      "** using staged installation\n"
     ]
    },
    {
     "name": "stdout",
     "output_type": "stream",
     "text": [
      "checking for gcc... gcc\n",
      "checking whether the C compiler works... yes\n",
      "checking for C compiler default output file name... a.out\n",
      "checking for suffix of executables... \n",
      "checking whether we are cross compiling... no\n",
      "checking for suffix of object files... o\n",
      "checking whether we are using the GNU C compiler... yes\n",
      "checking whether gcc accepts -g... yes\n",
      "checking for gcc option to accept ISO C89... none needed\n",
      "checking how to run the C preprocessor... gcc -E\n",
      "checking for gcc... (cached) gcc\n",
      "checking whether we are using the GNU C compiler... (cached) yes\n",
      "checking whether gcc accepts -g... (cached) yes\n",
      "checking for gcc option to accept ISO C89... (cached) none needed\n",
      "checking for pkg-config... /usr/bin/pkg-config\n",
      "checking pkg-config is at least version 0.9.0... yes\n",
      "checking for FFTW... no\n",
      "configure: creating ./config.status\n"
     ]
    },
    {
     "name": "stderr",
     "output_type": "stream",
     "text": [
      "configure: WARNING: Library fftw3 not available. Package MFPCA is installed without Fourier/Cosine basis transformation. If you would like to enable this feature, please install fftw3 from http://www.fftw.org/ and reinstall MFPCA.\n"
     ]
    },
    {
     "name": "stdout",
     "output_type": "stream",
     "text": [
      "config.status: creating src/Makevars\n",
      "gcc -I\"/usr/share/R/include\" -DNDEBUG       -fpic  -g -O2 -ffile-prefix-map=/build/r-base-6tgf7J/r-base-4.4.2=. -fstack-protector-strong -Wformat -Werror=format-security -Wdate-time -D_FORTIFY_SOURCE=2  -c MFPCA-init.c -o MFPCA-init.o\n"
     ]
    },
    {
     "name": "stderr",
     "output_type": "stream",
     "text": [
      "** libs\n",
      "using C compiler: ‘gcc (Ubuntu 11.4.0-1ubuntu1~22.04) 11.4.0’\n"
     ]
    },
    {
     "name": "stdout",
     "output_type": "stream",
     "text": [
      "gcc -I\"/usr/share/R/include\" -DNDEBUG       -fpic  -g -O2 -ffile-prefix-map=/build/r-base-6tgf7J/r-base-4.4.2=. -fstack-protector-strong -Wformat -Werror=format-security -Wdate-time -D_FORTIFY_SOURCE=2  -c dct2D.c -o dct2D.o\n",
      "gcc -I\"/usr/share/R/include\" -DNDEBUG       -fpic  -g -O2 -ffile-prefix-map=/build/r-base-6tgf7J/r-base-4.4.2=. -fstack-protector-strong -Wformat -Werror=format-security -Wdate-time -D_FORTIFY_SOURCE=2  -c dct3D.c -o dct3D.o\n",
      "gcc -shared -L/usr/lib/R/lib -Wl,-Bsymbolic-functions -flto=auto -ffat-lto-objects -flto=auto -Wl,-z,relro -o MFPCA.so MFPCA-init.o dct2D.o dct3D.o -L/usr/lib/R/lib -lR\n"
     ]
    },
    {
     "name": "stderr",
     "output_type": "stream",
     "text": [
      "installing to /usr/local/lib/R/site-library/00LOCK-MFPCA/00new/MFPCA/libs\n",
      "** R\n",
      "** inst\n",
      "** byte-compile and prepare package for lazy loading\n",
      "** help\n",
      "*** installing help indices\n",
      "** building package indices\n",
      "** testing if installed package can be loaded from temporary location\n",
      "** checking absolute paths in shared objects and dynamic libraries\n",
      "** testing if installed package can be loaded from final location\n",
      "** testing if installed package keeps a record of temporary installation path\n",
      "* DONE (MFPCA)\n"
     ]
    },
    {
     "data": {
      "text/plain": [
       "Installing package into ‘/usr/local/lib/R/site-library’\n",
       "(as ‘lib’ is unspecified)\n",
       "also installing the dependencies ‘dotCall64’, ‘spam’, ‘maps’, ‘fields’\n",
       "\n",
       "probando la URL 'https://cloud.r-project.org/src/contrib/dotCall64_1.2.tar.gz'\n",
       "Content type 'application/x-gzip' length 20362 bytes (19 KB)\n",
       "==================================================\n",
       "downloaded 19 KB\n",
       "\n",
       "probando la URL 'https://cloud.r-project.org/src/contrib/spam_2.11-1.tar.gz'\n",
       "Content type 'application/x-gzip' length 1812654 bytes (1.7 MB)\n",
       "==================================================\n",
       "downloaded 1.7 MB\n",
       "\n",
       "probando la URL 'https://cloud.r-project.org/src/contrib/maps_3.4.2.1.tar.gz'\n",
       "Content type 'application/x-gzip' length 2273638 bytes (2.2 MB)\n",
       "==================================================\n",
       "downloaded 2.2 MB\n",
       "\n",
       "probando la URL 'https://cloud.r-project.org/src/contrib/fields_16.3.tar.gz'\n",
       "Content type 'application/x-gzip' length 3623407 bytes (3.5 MB)\n",
       "==================================================\n",
       "downloaded 3.5 MB\n",
       "\n",
       "probando la URL 'https://cloud.r-project.org/src/contrib/funData_1.3-9.tar.gz'\n",
       "Content type 'application/x-gzip' length 112619 bytes (109 KB)\n",
       "==================================================\n",
       "downloaded 109 KB\n",
       "\n",
       "\n",
       "The downloaded source packages are in\n",
       "\t‘/tmp/RtmpuCGLth/downloaded_packages’\n",
       "Installing package into ‘/usr/local/lib/R/site-library’\n",
       "(as ‘lib’ is unspecified)\n",
       "also installing the dependency ‘irlba’\n",
       "\n",
       "probando la URL 'https://cloud.r-project.org/src/contrib/irlba_2.3.5.1.tar.gz'\n",
       "Content type 'application/x-gzip' length 233555 bytes (228 KB)\n",
       "==================================================\n",
       "downloaded 228 KB\n",
       "\n",
       "probando la URL 'https://cloud.r-project.org/src/contrib/MFPCA_1.3-10.tar.gz'\n",
       "Content type 'application/x-gzip' length 115212 bytes (112 KB)\n",
       "==================================================\n",
       "downloaded 112 KB\n",
       "\n",
       "\n",
       "The downloaded source packages are in\n",
       "\t‘/tmp/RtmpuCGLth/downloaded_packages’\n",
       "Además: Aviso:\n",
       "In (function (package, help, pos = 2, lib.loc = NULL, character.only = FALSE,  :\n",
       "  library ‘/usr/lib/R/site-library’ contains no packages\n"
      ]
     },
     "metadata": {},
     "output_type": "display_data"
    }
   ],
   "source": [
    "%%R\n",
    "install.packages(\"funData\")\n",
    "install.packages(\"MFPCA\")"
   ]
  }
 ],
 "metadata": {
  "kernelspec": {
   "display_name": ".venv",
   "language": "python",
   "name": "python3"
  },
  "language_info": {
   "codemirror_mode": {
    "name": "ipython",
    "version": 3
   },
   "file_extension": ".py",
   "mimetype": "text/x-python",
   "name": "python",
   "nbconvert_exporter": "python",
   "pygments_lexer": "ipython3",
   "version": "3.10.12"
  }
 },
 "nbformat": 4,
 "nbformat_minor": 2
}
