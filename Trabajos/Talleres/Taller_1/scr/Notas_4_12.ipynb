{
 "cells": [
  {
   "cell_type": "markdown",
   "metadata": {},
   "source": [
    "# Notas de la clase 4 de Diciembre"
   ]
  },
  {
   "cell_type": "markdown",
   "metadata": {},
   "source": [
    "## Computational Statictics and Data Analysis- Directional outlyingness for multivariate functional data"
   ]
  },
  {
   "cell_type": "markdown",
   "metadata": {},
   "source": [
    "Teniendo un vector de funciones $\\mathbf{X}$\n",
    "\n",
    "el primer paso es la profundidad como, tomando *pointwise*\n",
    "\n",
    "$$\\text{MFMD} = \\int_T D(\\mathbf{X} (t))\\omega(t) dt$$\n",
    "\n",
    "Donde $D$ es una profundidad multivariada y MFMD es una profundidad funcional multivariada.\n",
    "\n",
    "$$ D: \\mathcal{R}^p \\to \\mathcal{R}$$\n",
    "$$\\text{MFMD}: \\mathcal{L}^{2p}_T \\to \\mathcal{R}_{[0, 1]}$$\n",
    "\n",
    "Se define una función de outlyingness como \n",
    "$$ o: \\mathcal{R}^p \\to [0 , \\infty)$$\n",
    "\n",
    "La profundidad funcional multivariada se puede definir con base a la función de **outlyingness** (atipicidad) como\n",
    "\n",
    "$$ D(y) = [1 + o(y)]^{-1}$$\n",
    "Despejando: \n",
    "\n",
    "$$ o(y) = [D(y)^{-1} - 1] $$\n",
    "\n",
    "Ahora se define la función O por medio de la O:\n",
    "\n",
    "$$ O(\\mathbf{y}) = o(\\mathbf{y})\\vec{v}(\\mathbf{y})$$\n",
    "\n",
    "$$ O: \\mathcal{R}^p \\to \\mathcal{R}^p$$\n",
    "\n",
    "Donde $\\vec{v}(\\mathbf{y})$ es un vector unitario en la dirección de $\\mathbf{y}$\n",
    "\n",
    "$$ \\vec{v}(\\mathbf{y}) = \\frac{\\mathbf{y} - \\tilde{\\mathbf{y}}}{||\\mathbf{y} - \\tilde{\\mathbf{y}}||} = \\text{Signo del vector  y} = Sign(\\mathbf{y})$$\n",
    "\n",
    "Encuentre la variacion de la función de outlyingness en la dirección de $\\mathbf{y}$\n",
    "\n",
    "## ¿Como pasarlo a funcionales?\n",
    "\n",
    "O ahora es multivaridad funcional, atipicidad vectorial funcional\n",
    "\n",
    "$$ MO(\\mathbf{X}) = \\int_T O(\\mathbf{X}) \\omega(t) dt$$\n",
    "$$ =\\int_T\\left[ f , f , \\dots, f \\right]$$\n",
    "$$ =\\left[ \\int_t , \\int_t , \\dots, \\int_t \\right] \\in \\mathcal{R}^p$$\n",
    "\n",
    "Note que FO devuelve un **vector**, (se esta integrando un vector), las funciones f pertenecen a $\\mathcal{R}^p$\n",
    "\n",
    "La norma de MO da la la magnitud de la atipicidad que son outliers de **magnitud**.\n",
    "\n",
    "$$VO(\\mathbf{X}) = \\int_T ||O(\\mathbf{X}) - MO(\\mathbf{X})||^2 \\omega(t) dt$$\n",
    "\n",
    "que nos determina los outliners de **forma**, note que VO es un **número**.\n",
    "\n",
    "Se puede definir la distancia de mahalanobis robusta como\n",
    "\n",
    "$$ \\vec{y} = (\\underbrace{\\vec{MO}}_{\\mathcal{R}^p}, \\underbrace{VO}_{\\mathcal{R}}) \\in \\mathcal{R}^{p +1}$$\n",
    "\n",
    "La función de covarianza cambia como se usa MCD (minimum covariance determinant) para encontrar la covarianza robusta.\n",
    "\n",
    "$$ \\frac{1}{h} \\sum_{i=1}^h (\\vec{y}_i - \\bar{\\vec{y}})(\\vec{y}_i - \\bar{\\vec{y}})^T$$"
   ]
  }
 ],
 "metadata": {
  "language_info": {
   "name": "python"
  }
 },
 "nbformat": 4,
 "nbformat_minor": 2
}
